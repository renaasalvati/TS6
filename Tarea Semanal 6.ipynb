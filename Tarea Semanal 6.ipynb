{
 "cells": [
  {
   "cell_type": "markdown",
   "id": "cec3fd28",
   "metadata": {},
   "source": [
    "# Trabajo Semanal 6\n",
    "### Renata Salvati Dávila\n",
    "***"
   ]
  },
  {
   "cell_type": "markdown",
   "id": "30bbfbca",
   "metadata": {},
   "source": [
    "**1. Para el siguiente cuadripolo se pide calcular los parámetros Z.**\n",
    "<img src=\"./Ejercicio1.png\" align=\"center\" width=\"700\" /> "
   ]
  },
  {
   "cell_type": "markdown",
   "id": "454fdd44",
   "metadata": {},
   "source": [
    "<img src=\"./Hoja1.jpeg\" align=\"center\" /> \n",
    "<img src=\"./Hoja2.jpeg\" align=\"center\" /> "
   ]
  },
  {
   "cell_type": "markdown",
   "id": "40143960",
   "metadata": {},
   "source": [
    "### LTSpice\n",
    "<img src=\"./Circuito1.png\" align=\"center\" width=\"600\" />\n",
    "<img src=\"./Simulacion1.png\" align=\"center\" width=\"700\" />\n",
    "\n",
    "Se puede observar de la simulación que en el régimen permanente todos los parámetros de la matriz, en módulo, tienden a 333.3m$\\Omega$. Este mismo tiene aproximadamente un 10% de error en comparación a lo obtenido teóricamente."
   ]
  },
  {
   "cell_type": "markdown",
   "id": "c2e7b84f",
   "metadata": {},
   "source": [
    "**2. Dado el siguiente circuito:**\n",
    "<img src=\"./Ejercicio2.png\" align=\"center\" width=\"400\" /> "
   ]
  },
  {
   "cell_type": "markdown",
   "id": "94845793",
   "metadata": {},
   "source": [
    "**a. Obtener la transferencia de tensión fracción V subíndice o entre V subíndice i por método de cuadripolos (se sugiere referirse a alguno de los métodos de interconexión ya vistos).**\n",
    "<img src=\"./Hoja3.jpeg\" align=\"center\" width=\"700\" /> "
   ]
  },
  {
   "cell_type": "markdown",
   "id": "1ab7f4fb",
   "metadata": {},
   "source": [
    "**b. Construya la matriz de admitancia indefinida (MAI) del circuito.**\n",
    "<img src=\"./Hoja4.jpeg\" align=\"center\" width=\"700\" /> "
   ]
  },
  {
   "cell_type": "markdown",
   "id": "7c590d10",
   "metadata": {},
   "source": [
    "**c. Compute la transferencia de tensión con la MAI.**\n",
    "<img src=\"./Hoja5.jpeg\" align=\"center\" width=\"700\" /> "
   ]
  },
  {
   "cell_type": "markdown",
   "id": "b9d8cd46",
   "metadata": {},
   "source": [
    "**d. Compute la impedancia de entrada con la MAI.**\n",
    "<img src=\"./Hoja6.jpeg\" align=\"center\" width=\"700\" />"
   ]
  },
  {
   "cell_type": "markdown",
   "id": "91786bb0",
   "metadata": {},
   "source": [
    "### LTSpice\n",
    "<img src=\"./Circuito2.png\" align=\"center\" width=\"600\" />\n",
    "<img src=\"./Simulacion2.png\" align=\"center\" width=\"700\" />\n",
    "\n",
    "Se puede observar de la simulación que la transferencia de tensiones cumple con un filtro pasabajos de máxima planicidad Butter ya que a 159mHz cae a 3db. Además como es de orden 3, se puede ver que por década cae 60db."
   ]
  }
 ],
 "metadata": {
  "kernelspec": {
   "display_name": "Python 3 (ipykernel)",
   "language": "python",
   "name": "python3"
  },
  "language_info": {
   "codemirror_mode": {
    "name": "ipython",
    "version": 3
   },
   "file_extension": ".py",
   "mimetype": "text/x-python",
   "name": "python",
   "nbconvert_exporter": "python",
   "pygments_lexer": "ipython3",
   "version": "3.10.12"
  }
 },
 "nbformat": 4,
 "nbformat_minor": 5
}
